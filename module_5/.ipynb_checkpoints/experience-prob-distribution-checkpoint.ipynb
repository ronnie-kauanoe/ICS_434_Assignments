{
 "cells": [
  {
   "cell_type": "markdown",
   "id": "713c60c7",
   "metadata": {},
   "source": [
    "##### Q.1 \n",
    "\n",
    "Consider the loaded die with the following probabilities:\n",
    "```\n",
    "    p(1) = 0.3/6\n",
    "    p(2) = 0.7/6\n",
    "    p(3) =   2/6\n",
    "    p(4) = 0.5/6\n",
    "    p(5) = 0.2/6\n",
    "    p(6) = 2.3/6\n",
    "```\n"
   ]
  },
  {
   "cell_type": "markdown",
   "id": "dbe12bdf",
   "metadata": {},
   "source": [
    "##### Q.2 \n",
    "* Plot the probability distribution above\n",
    "  * Select the most appropriate visualization to do so."
   ]
  },
  {
   "cell_type": "code",
   "execution_count": 121,
   "id": "ce1aeeb3",
   "metadata": {},
   "outputs": [],
   "source": [
    "import matplotlib.pyplot as plt\n",
    "import numpy as np"
   ]
  },
  {
   "cell_type": "code",
   "execution_count": 122,
   "id": "f519fe80",
   "metadata": {},
   "outputs": [
    {
     "data": {
      "text/plain": [
       "<function matplotlib.pyplot.show(close=None, block=None)>"
      ]
     },
     "execution_count": 122,
     "metadata": {},
     "output_type": "execute_result"
    },
    {
     "data": {
      "image/png": "[encoded data removed]",
      "text/plain": [
       "<Figure size 432x288 with 1 Axes>"
      ]
     },
     "metadata": {
      "needs_background": "light"
     },
     "output_type": "display_data"
    }
   ],
   "source": [
    "p = [\n",
    "    0.3/6,\n",
    "    0.7/6,\n",
    "    2/6,\n",
    "    0.5/6,\n",
    "    0.2/6,\n",
    "    2.3/6\n",
    "]\n",
    "\n",
    "values = [1, 2, 3, 4, 5, 6]\n",
    "\n",
    "plt.bar(values, p, width = 0.4)\n",
    "\n",
    "axes = plt.gca()\n",
    "axes.yaxis.grid()\n",
    "\n",
    "plt.title(\"Weighted Dice Probabilities\")\n",
    "plt.xlabel(\"Face Value\")\n",
    "plt.ylabel(\"Probability\")\n",
    "\n",
    "plt.show"
   ]
  },
  {
   "cell_type": "markdown",
   "id": "2bebd2a7",
   "metadata": {},
   "source": [
    "##### Q.3 \n",
    "* Based only on the plot above, can you predict the mean value of a random variable consisting of values obtaining from rolling a die  that follows the probability distribution given above? Explain your reasoning."
   ]
  },
  {
   "cell_type": "markdown",
   "id": "a426d02b",
   "metadata": {},
   "source": [
    "Yes, we can use the above plot to predict the mean value. To predict the mean value, we must know the numeric value of each outcome (i.e., dice face value) and the outcome's probability. We know both of these factors. From the plot above, let's define the probabilities of each face value and approximate the mean value."
   ]
  },
  {
   "cell_type": "code",
   "execution_count": 123,
   "id": "759e39c8",
   "metadata": {},
   "outputs": [
    {
     "name": "stdout",
     "output_type": "stream",
     "text": [
      "Mean value = 4.09\n"
     ]
    }
   ],
   "source": [
    "# These are visual approximations of each probability adjusted to sum to 1.0\n",
    "p_1 = [\n",
    "    0.05,\n",
    "    0.11,\n",
    "    0.34,\n",
    "    0.08,\n",
    "    0.04,\n",
    "    0.38\n",
    "]\n",
    "\n",
    "mean = 0\n",
    "\n",
    "# mean = Summation from i = 1 to 6: i * probability(i)\n",
    "for i in range(6):\n",
    "    mean += (i + 1) * p_1[i]\n",
    "    \n",
    "print(\"Mean value = \" + str(mean))"
   ]
  },
  {
   "cell_type": "markdown",
   "id": "007f6984",
   "metadata": {},
   "source": [
    "##### Q.4\n",
    "* Sample 5000 die rolls such that the probabilities of obtaining the values 1 through 6 are distributed according probabilities above. Use these samples to estimate the mean of the random variable. \n"
   ]
  },
  {
   "cell_type": "code",
   "execution_count": 124,
   "id": "5bc38d79",
   "metadata": {},
   "outputs": [
    {
     "name": "stdout",
     "output_type": "stream",
     "text": [
      "1: 243 rolls\n",
      "2: 510 rolls\n",
      "3: 1723 rolls\n",
      "4: 435 rolls\n",
      "5: 229 rolls\n",
      "6: 1860 rolls\n",
      "Mean value = 4.0954\n",
      "Difference between prediction and calculation = 0.005399999999999849 = 0.13185525223421032%\n"
     ]
    }
   ],
   "source": [
    "# Number of rolls\n",
    "limit = 5000\n",
    "# Sampled rolls\n",
    "rolls = [np.random.choice(np.arange(1, 7), p = p_1) for _ in range(limit)]\n",
    "# Counts of each result from 1 - 6\n",
    "counts = [[x, rolls.count(x)] for x in range(1, 7)]\n",
    "\n",
    "for i in range(6):\n",
    "    print(str(i + 1) + \": \" + str(counts[i][1]) + \" rolls\")\n",
    "    \n",
    "# Probabilities for each face value given sample\n",
    "p_2 = [counts[x][1] / limit for x in range(6)]\n",
    "\n",
    "mean_1 = 0\n",
    "\n",
    "# mean = Summation from i = 1 to 6: i * probability(i)\n",
    "for i in range(6):\n",
    "    mean_1 += (i + 1) * p_2[i]\n",
    "    \n",
    "print(\"Mean value = \" + str(mean_1))\n",
    "print(\"Difference between prediction and calculation = \"\n",
    "    + str(mean_1 - mean) + \" = \"\n",
    "    + str(((mean_1 - mean) / mean_1) * 100) + \"%\")"
   ]
  },
  {
   "cell_type": "markdown",
   "id": "78152616",
   "metadata": {},
   "source": [
    "##### Q.5 \n",
    "\n",
    "* Does the mean match your prediction in Q.3 above? Explain your answer.\n"
   ]
  },
  {
   "cell_type": "markdown",
   "id": "a3670994",
   "metadata": {},
   "source": [
    "Yes, the mean matches my prediction. The biggest deviation seen between the calculated mean and the predicted mean is less than 2%."
   ]
  }
 ],
 "metadata": {
  "kernelspec": {
   "display_name": "Python 3",
   "language": "python",
   "name": "python3"
  },
  "language_info": {
   "codemirror_mode": {
    "name": "ipython",
    "version": 3
   },
   "file_extension": ".py",
   "mimetype": "text/x-python",
   "name": "python",
   "nbconvert_exporter": "python",
   "pygments_lexer": "ipython3",
   "version": "3.8.8"
  }
 },
 "nbformat": 4,
 "nbformat_minor": 5
}
